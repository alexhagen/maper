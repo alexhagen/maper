{
 "cells": [
  {
   "cell_type": "code",
   "execution_count": 1,
   "metadata": {},
   "outputs": [],
   "source": [
    "import sys\n",
    "sys.path.insert(0, '/Users/ahagen/code')\n",
    "sys.path.insert(0, '/Users/ahagen/code/pyg')\n",
    "from maper import maper as maper\n",
    "m = maper.maper()"
   ]
  },
  {
   "cell_type": "code",
   "execution_count": 2,
   "metadata": {},
   "outputs": [
    {
     "data": {
      "text/plain": [
       "<maper.maper.maper at 0x1119167b8>"
      ]
     },
     "execution_count": 2,
     "metadata": {},
     "output_type": "execute_result"
    }
   ],
   "source": [
    "# download states and plot\n",
    "m.i('/Users/ahagen/.maper/richland/Road.shp', name='roads')\n",
    "m.i('/Users/ahagen/.maper/pasco/Roads_web.shp', name='roadsp')\n",
    "m.i('/Users/ahagen/.maper/rivers/DNR_Hydrography__Water_Bodies.shp', name='water')"
   ]
  },
  {
   "cell_type": "code",
   "execution_count": 3,
   "metadata": {},
   "outputs": [
    {
     "data": {
      "text/plain": [
       "<maper.maper.maper at 0x1119167b8>"
      ]
     },
     "execution_count": 3,
     "metadata": {},
     "output_type": "execute_result"
    }
   ],
   "source": [
    "# style\n",
    "m.style(fill='#ffffff', stroke='#000000')\n",
    "#m.style(name='uscities', fill='#cccccc', stroke='none')\n",
    "#m.style(name='cacities', fill='#cccccc', stroke='none')\n",
    "m.style(name='roads', fill='none', stroke='#eeeeee')\n",
    "m.style(name='roadsp', fill='none', stroke='#eeeeee')\n",
    "\n",
    "#m.style(name='bcnatlparks', fill='#ccffcc', stroke='none')\n",
    "#m.style(name='abnatlparks', fill='#ccffcc', stroke='none')\n",
    "#m.style(name='usnatlparks', fill='#ccffcc', stroke='none')\n",
    "\n",
    "m.style(name='water', fill='#ccccff', stroke='none')\n",
    "#m.style(name='rivers', stroke='#ccccff')\n",
    "\n",
    "#m.style(name='topo', stroke='#fffcff')\n",
    "\n",
    "#m.style(name='usstateparks', fill='#ccddcc', stroke='none')\n",
    "#m.style(name='bcprovparks', fill='#ccddcc', stroke='none')\n",
    "#m.style(name='abprovparks', fill='#ccddcc', stroke='none')"
   ]
  },
  {
   "cell_type": "code",
   "execution_count": null,
   "metadata": {
    "scrolled": false
   },
   "outputs": [
    {
     "name": "stdout",
     "output_type": "stream",
     "text": [
      "mapshaper -rectangle name=box bbox=-121.00000,45.00000,-117.00000,48.00000 -proj +proj=merc +lat_ts=46.289428 +lon_0=-119.291794 -o box_temp.shp\n",
      "b'[o] Wrote box_temp.shp\\n[o] Wrote box_temp.shx\\n[o] Wrote box_temp.dbf\\n[o] Wrote box_temp.prj\\n'\n",
      "mapshaper -i combine-files /Users/ahagen/.maper/richland/Road_temp.shp /Users/ahagen/.maper/pasco/Roads_web_temp.shp /Users/ahagen/.maper/rivers/DNR_Hydrography__Water_Bodies_temp.shp -rename-layers roads,roadsp,water -proj +proj=merc +lat_ts=46.289428 +lon_0=-119.291794 -clip box_temp.shp -svg-style fill=#ffffff stroke=#000000 -svg-style target=roads fill=none stroke=#eeeeee -svg-style target=roadsp fill=none stroke=#eeeeee -svg-style target=water fill=#ccccff stroke=none -simplify dp stats resolution=720x680 -o target=* format=svg width=720 out.svg\n",
      "b'[simplify] Repaired 1,321 intersections\\n[simplify] Simplification statistics\\n   Method: Ramer-Douglas-Peucker (planar) \\n   Removed vertices: 948,800\\n      97.1% of 977,558 unique coordinate locations\\n      98.9% of 936,832 filterable coordinate locations\\n   Simplification threshold: 214.0511 \\n   Collapsed rings: 22,041\\n   Displacement statistics\\n      Mean displacement: 51.4022\\n      Max displacement: 213.9914\\n      Quartiles: 6.66, 29.52, 81.08\\n   Vertex angle statistics\\n      Mean angle: 104.58 degrees\\n      Quartiles: 74.66, 117.95, 143.34\\n[o] Wrote out.svg\\n'\n"
     ]
    }
   ],
   "source": [
    "# export\n",
    "m.simplify(0.50)\n",
    "m.clip(-121., 45., -117., 48.) #-127., 42., -110., 51.)\n",
    "m.export()\n",
    "m.show()"
   ]
  }
 ],
 "metadata": {
  "kernelspec": {
   "display_name": "Python 3",
   "language": "python",
   "name": "python3"
  },
  "language_info": {
   "codemirror_mode": {
    "name": "ipython",
    "version": 3
   },
   "file_extension": ".py",
   "mimetype": "text/x-python",
   "name": "python",
   "nbconvert_exporter": "python",
   "pygments_lexer": "ipython3",
   "version": "3.6.5"
  }
 },
 "nbformat": 4,
 "nbformat_minor": 2
}
