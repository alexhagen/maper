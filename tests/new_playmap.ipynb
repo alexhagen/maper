{
 "cells": [
  {
   "cell_type": "code",
   "execution_count": 1,
   "metadata": {},
   "outputs": [],
   "source": [
    "from maper import maper as maper\n",
    "m = maper.maper()"
   ]
  },
  {
   "cell_type": "code",
   "execution_count": 2,
   "metadata": {},
   "outputs": [
    {
     "data": {
      "text/plain": [
       "<maper.maper.maper at 0x2b13d0d20b90>"
      ]
     },
     "execution_count": 2,
     "metadata": {},
     "output_type": "execute_result"
    }
   ],
   "source": [
    "# download states and plot\n",
    "m.i('/home/ahagen/.maper/shps/states/cb_2015_us_state_20m.shp', name='states')"
   ]
  },
  {
   "cell_type": "code",
   "execution_count": 3,
   "metadata": {},
   "outputs": [
    {
     "data": {
      "text/plain": [
       "<maper.maper.maper at 0x2b13d0d20b90>"
      ]
     },
     "execution_count": 3,
     "metadata": {},
     "output_type": "execute_result"
    }
   ],
   "source": [
    "# download canadian provinces and plot\n",
    "m.i('/home/ahagen/.maper/shps/lpr_000b16a_e.shp', name='provinces')"
   ]
  },
  {
   "cell_type": "code",
   "execution_count": 4,
   "metadata": {},
   "outputs": [
    {
     "data": {
      "text/plain": [
       "<maper.maper.maper at 0x2b13d0d20b90>"
      ]
     },
     "execution_count": 4,
     "metadata": {},
     "output_type": "execute_result"
    }
   ],
   "source": [
    "# download us highways and plot\n",
    "m.i('/home/ahagen/.maper/shps/tl_2016_us_primaryroads.shp', name='usroads')"
   ]
  },
  {
   "cell_type": "code",
   "execution_count": 5,
   "metadata": {},
   "outputs": [],
   "source": [
    "# canadian highways"
   ]
  },
  {
   "cell_type": "code",
   "execution_count": 6,
   "metadata": {},
   "outputs": [],
   "source": [
    "# us rivers and lakes"
   ]
  },
  {
   "cell_type": "code",
   "execution_count": 7,
   "metadata": {},
   "outputs": [],
   "source": [
    "# canadian rivers and lakes"
   ]
  },
  {
   "cell_type": "code",
   "execution_count": 8,
   "metadata": {},
   "outputs": [],
   "source": [
    "# american topology\n",
    "#m.i('/home/ahagen/.maper/shps/elev/cont49l010a.shp', proj=True)"
   ]
  },
  {
   "cell_type": "code",
   "execution_count": 9,
   "metadata": {},
   "outputs": [
    {
     "data": {
      "text/plain": [
       "<maper.maper.maper at 0x2b13d0d20b90>"
      ]
     },
     "execution_count": 9,
     "metadata": {},
     "output_type": "execute_result"
    }
   ],
   "source": [
    "# us population centers\n",
    "m.i('/home/ahagen/.maper/shps/cb_2016_us_ua10_500k.shp', name='uscities')"
   ]
  },
  {
   "cell_type": "code",
   "execution_count": 10,
   "metadata": {},
   "outputs": [
    {
     "data": {
      "text/plain": [
       "<maper.maper.maper at 0x2b13d0d20b90>"
      ]
     },
     "execution_count": 10,
     "metadata": {},
     "output_type": "execute_result"
    }
   ],
   "source": [
    "# canadian population centers\n",
    "m.i('/home/ahagen/.maper/shps/gpc_000b11a_e.shp', name='cacities')"
   ]
  },
  {
   "cell_type": "code",
   "execution_count": 11,
   "metadata": {},
   "outputs": [
    {
     "data": {
      "text/plain": [
       "<maper.maper.maper at 0x2b13d0d20b90>"
      ]
     },
     "execution_count": 11,
     "metadata": {},
     "output_type": "execute_result"
    }
   ],
   "source": [
    "# us national parks\n",
    "m.i('/home/ahagen/.maper/shps/ne_10m_parks_and_protected_lands/ne_10m_parks_and_protected_lands_area.shp',\n",
    "    name='usnatlparks')"
   ]
  },
  {
   "cell_type": "code",
   "execution_count": 12,
   "metadata": {},
   "outputs": [
    {
     "data": {
      "text/plain": [
       "<maper.maper.maper at 0x2b13d0d20b90>"
      ]
     },
     "execution_count": 12,
     "metadata": {},
     "output_type": "execute_result"
    }
   ],
   "source": [
    "# canadian national parks\n",
    "m.i('/home/ahagen/.maper/shps/CLAB_BC_2018-02-16.shp', name='bcnatlparks')\n",
    "m.i('/home/ahagen/.maper/shps/CLAB_AB_2018-02-16.shp', name='abnatlparks')"
   ]
  },
  {
   "cell_type": "code",
   "execution_count": 13,
   "metadata": {},
   "outputs": [],
   "source": [
    "# WA state parks"
   ]
  },
  {
   "cell_type": "code",
   "execution_count": 14,
   "metadata": {},
   "outputs": [],
   "source": [
    "# OR state parks"
   ]
  },
  {
   "cell_type": "code",
   "execution_count": 15,
   "metadata": {},
   "outputs": [],
   "source": [
    "# ID state parks"
   ]
  },
  {
   "cell_type": "code",
   "execution_count": 16,
   "metadata": {},
   "outputs": [],
   "source": [
    "# MT state parks"
   ]
  },
  {
   "cell_type": "code",
   "execution_count": 17,
   "metadata": {},
   "outputs": [
    {
     "data": {
      "text/plain": [
       "<maper.maper.maper at 0x2b13d0d20b90>"
      ]
     },
     "execution_count": 17,
     "metadata": {},
     "output_type": "execute_result"
    }
   ],
   "source": [
    "# BC provincial parks\n",
    "m.i('/home/ahagen/.maper/shps/TA_PEP_SVW_polygon.shp', name='bcprovparks')"
   ]
  },
  {
   "cell_type": "code",
   "execution_count": 18,
   "metadata": {},
   "outputs": [
    {
     "data": {
      "text/plain": [
       "<maper.maper.maper at 0x2b13d0d20b90>"
      ]
     },
     "execution_count": 18,
     "metadata": {},
     "output_type": "execute_result"
    }
   ],
   "source": [
    "# AL provincial parks\n",
    "m.i('/home/ahagen/.maper/shps/Parks_Protected_Areas_Alberta.shp', name='abprovparks')"
   ]
  },
  {
   "cell_type": "code",
   "execution_count": 19,
   "metadata": {},
   "outputs": [],
   "source": [
    "# find 8 hour, 5 hour, 3 hour radii"
   ]
  },
  {
   "cell_type": "code",
   "execution_count": 20,
   "metadata": {},
   "outputs": [
    {
     "data": {
      "text/plain": [
       "<maper.maper.maper at 0x2b13d0d20b90>"
      ]
     },
     "execution_count": 20,
     "metadata": {},
     "output_type": "execute_result"
    }
   ],
   "source": [
    "# style\n",
    "m.style(fill='#ffffff', stroke='#000000')\n",
    "m.style(name='uscities', fill='#cccccc', stroke='none')\n",
    "m.style(name='cacities', fill='#cccccc', stroke='none')\n",
    "m.style(name='usroads', fill='none', stroke='#dddddd')\n",
    "m.style(name='bcnatlparks', fill='#ccffcc', stroke='none')\n",
    "m.style(name='abnatlparks', fill='#ccffcc', stroke='none')\n",
    "m.style(name='usnatlparks', fill='#ccffcc', stroke='none')\n",
    "\n",
    "\n",
    "m.style(name='bcprovparks', fill='#ccddcc', stroke='none')\n",
    "m.style(name='abprovparks', fill='#ccddcc', stroke='none')"
   ]
  },
  {
   "cell_type": "code",
   "execution_count": 21,
   "metadata": {
    "scrolled": false
   },
   "outputs": [
    {
     "name": "stdout",
     "output_type": "stream",
     "text": [
      "mapshaper -rectangle name=box bbox=-127,44,-115,51 -proj +proj=merc +lat_ts=46.289428 +lon_0=-119.291794 -o box_temp.shp\n",
      "[o] Wrote box_temp.shp\n",
      "[o] Wrote box_temp.shx\n",
      "[o] Wrote box_temp.dbf\n",
      "[o] Wrote box_temp.prj\n",
      "\n",
      "mapshaper -i combine-files /home/ahagen/.maper/shps/states/cb_2015_us_state_20m_temp.shp /home/ahagen/.maper/shps/lpr_000b16a_e_temp.shp /home/ahagen/.maper/shps/tl_2016_us_primaryroads_temp.shp /home/ahagen/.maper/shps/cb_2016_us_ua10_500k_temp.shp /home/ahagen/.maper/shps/gpc_000b11a_e_temp.shp /home/ahagen/.maper/shps/ne_10m_parks_and_protected_lands/ne_10m_parks_and_protected_lands_area_temp.shp /home/ahagen/.maper/shps/CLAB_BC_2018-02-16_temp.shp /home/ahagen/.maper/shps/CLAB_AB_2018-02-16_temp.shp /home/ahagen/.maper/shps/TA_PEP_SVW_polygon_temp.shp /home/ahagen/.maper/shps/Parks_Protected_Areas_Alberta_temp.shp -rename-layers states,provinces,usroads,uscities,cacities,usnatlparks,bcnatlparks,abnatlparks,bcprovparks,abprovparks -proj +proj=merc +lat_ts=46.289428 +lon_0=-119.291794 -clip box_temp.shp -svg-style stroke=#000000 fill=#ffffff -svg-style target=uscities stroke=none fill=#cccccc -svg-style target=abprovparks stroke=none fill=#ccddcc -svg-style target=usnatlparks stroke=none fill=#ccffcc -svg-style target=abnatlparks stroke=none fill=#ccffcc -svg-style target=cacities stroke=none fill=#cccccc -svg-style target=bcprovparks stroke=none fill=#ccddcc -svg-style target=usroads stroke=#dddddd fill=none -svg-style target=bcnatlparks stroke=none fill=#ccffcc -simplify dp stats resolution=720x680 -o target=* format=svg width=720 out.svg\n",
      "[clip] Detected DBF text encoding: utf8\n",
      "Sample text containing non-ascii characters:  Expreso Cruz Ortíz Stella  Autopista Luis A Ferré\n",
      "[simplify] Repaired 1,295 intersections; 9 intersections could not be repaired\n",
      "[simplify] Simplification statistics\n",
      "   Method: Ramer-Douglas-Peucker (planar) \n",
      "   Removed vertices: 772,104\n",
      "      95.8% of 806,157 unique coordinate locations\n",
      "      98.6% of 781,732 filterable coordinate locations\n",
      "   Simplification threshold: 642.1534 \n",
      "   Collapsed rings: 1,333\n",
      "   Displacement statistics\n",
      "      Mean displacement: 79.4823\n",
      "      Max displacement: 642.1063\n",
      "      Quartiles: 0.64, 5.72, 51.06\n",
      "   Vertex angle statistics\n",
      "      Mean angle: 102.87 degrees\n",
      "      Quartiles: 75.11, 105.40, 136.04\n",
      "[o] Wrote out.svg\n",
      "\n"
     ]
    },
    {
     "data": {
      "text/html": [
       "\n",
       "                <div class='figure' name='' style='align: center; margin-left: auto; margin-right: auto;'>\n",
       "                    <img style='margin: auto; max-width:800px; width:800.000000px; height: auto;' src='out.svg?583413314' />\n",
       "                    <div style='margin: auto; text-align: center;' class='figurecaption' name=\"\"><b>Figure 1:</b> map</div>\n",
       "                </div>\n",
       "            "
      ],
      "text/plain": [
       "<IPython.core.display.HTML object>"
      ]
     },
     "metadata": {},
     "output_type": "display_data"
    },
    {
     "data": {
      "text/plain": [
       "<maper.maper.maper at 0x2b13d0d20b90>"
      ]
     },
     "execution_count": 21,
     "metadata": {},
     "output_type": "execute_result"
    }
   ],
   "source": [
    "# export\n",
    "m.simplify(0.50)\n",
    "m.clip()\n",
    "m.export()\n",
    "m.show()"
   ]
  }
 ],
 "metadata": {
  "kernelspec": {
   "display_name": "Python 2",
   "language": "python",
   "name": "python2"
  },
  "language_info": {
   "codemirror_mode": {
    "name": "ipython",
    "version": 2
   },
   "file_extension": ".py",
   "mimetype": "text/x-python",
   "name": "python",
   "nbconvert_exporter": "python",
   "pygments_lexer": "ipython2",
   "version": "2.7.12"
  }
 },
 "nbformat": 4,
 "nbformat_minor": 2
}
