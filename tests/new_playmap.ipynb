{
 "cells": [
  {
   "cell_type": "code",
   "execution_count": 1,
   "metadata": {},
   "outputs": [],
   "source": [
    "from maper import maper as maper\n",
    "m = maper.maper()"
   ]
  },
  {
   "cell_type": "code",
   "execution_count": 2,
   "metadata": {},
   "outputs": [
    {
     "data": {
      "text/plain": [
       "<maper.maper.maper at 0x2acf31c9de50>"
      ]
     },
     "execution_count": 2,
     "metadata": {},
     "output_type": "execute_result"
    }
   ],
   "source": [
    "# download states and plot\n",
    "m.i('/home/ahagen/.maper/shps/states/cb_2015_us_state_20m.shp', name='states')"
   ]
  },
  {
   "cell_type": "code",
   "execution_count": 3,
   "metadata": {},
   "outputs": [
    {
     "data": {
      "text/plain": [
       "<maper.maper.maper at 0x2acf31c9de50>"
      ]
     },
     "execution_count": 3,
     "metadata": {},
     "output_type": "execute_result"
    }
   ],
   "source": [
    "# download canadian provinces and plot\n",
    "m.i('/home/ahagen/.maper/shps/lpr_000b16a_e.shp', name='provinces')"
   ]
  },
  {
   "cell_type": "code",
   "execution_count": 4,
   "metadata": {},
   "outputs": [
    {
     "data": {
      "text/plain": [
       "<maper.maper.maper at 0x2acf31c9de50>"
      ]
     },
     "execution_count": 4,
     "metadata": {},
     "output_type": "execute_result"
    }
   ],
   "source": [
    "# download us highways and plot\n",
    "#m.i('/home/ahagen/.maper/shps/tl_2016_us_primaryroads.shp', name='usroads')\n",
    "m.i('/home/ahagen/.maper/shps/ne_10m_roads_north_america.shp', name='roads')"
   ]
  },
  {
   "cell_type": "code",
   "execution_count": 5,
   "metadata": {},
   "outputs": [
    {
     "data": {
      "text/plain": [
       "<maper.maper.maper at 0x2acf31c9de50>"
      ]
     },
     "execution_count": 5,
     "metadata": {},
     "output_type": "execute_result"
    }
   ],
   "source": [
    "# north american rivers and lakes\n",
    "m.i('/home/ahagen/.maper/shps/ne_10m_lakes.shp', name='lakes')\n",
    "m.i('/home/ahagen/.maper/shps/ne_10m_rivers_lake_centerlines.shp', name='rivers')"
   ]
  },
  {
   "cell_type": "code",
   "execution_count": 6,
   "metadata": {},
   "outputs": [
    {
     "data": {
      "text/plain": [
       "<maper.maper.maper at 0x2acf31c9de50>"
      ]
     },
     "execution_count": 6,
     "metadata": {},
     "output_type": "execute_result"
    }
   ],
   "source": [
    "# american topology\n",
    "m.i('/home/ahagen/.maper/shps/elev/cont49l010a.shp', name='topo', filter='Contour == 300')"
   ]
  },
  {
   "cell_type": "code",
   "execution_count": 7,
   "metadata": {},
   "outputs": [
    {
     "data": {
      "text/plain": [
       "<maper.maper.maper at 0x2acf31c9de50>"
      ]
     },
     "execution_count": 7,
     "metadata": {},
     "output_type": "execute_result"
    }
   ],
   "source": [
    "# us population centers\n",
    "m.i('/home/ahagen/.maper/shps/cb_2016_us_ua10_500k.shp', name='uscities')"
   ]
  },
  {
   "cell_type": "code",
   "execution_count": 8,
   "metadata": {},
   "outputs": [
    {
     "data": {
      "text/plain": [
       "<maper.maper.maper at 0x2acf31c9de50>"
      ]
     },
     "execution_count": 8,
     "metadata": {},
     "output_type": "execute_result"
    }
   ],
   "source": [
    "# canadian population centers\n",
    "m.i('/home/ahagen/.maper/shps/gpc_000b11a_e.shp', name='cacities')"
   ]
  },
  {
   "cell_type": "code",
   "execution_count": 9,
   "metadata": {},
   "outputs": [
    {
     "data": {
      "text/plain": [
       "<maper.maper.maper at 0x2acf31c9de50>"
      ]
     },
     "execution_count": 9,
     "metadata": {},
     "output_type": "execute_result"
    }
   ],
   "source": [
    "# us national parks\n",
    "m.i('/home/ahagen/.maper/shps/ne_10m_parks_and_protected_lands/ne_10m_parks_and_protected_lands_area.shp',\n",
    "    name='usnatlparks')"
   ]
  },
  {
   "cell_type": "code",
   "execution_count": 10,
   "metadata": {},
   "outputs": [
    {
     "data": {
      "text/plain": [
       "<maper.maper.maper at 0x2acf31c9de50>"
      ]
     },
     "execution_count": 10,
     "metadata": {},
     "output_type": "execute_result"
    }
   ],
   "source": [
    "# canadian national parks\n",
    "m.i('/home/ahagen/.maper/shps/CLAB_BC_2018-02-16.shp', name='bcnatlparks')\n",
    "m.i('/home/ahagen/.maper/shps/CLAB_AB_2018-02-16.shp', name='abnatlparks')"
   ]
  },
  {
   "cell_type": "code",
   "execution_count": 11,
   "metadata": {},
   "outputs": [
    {
     "data": {
      "text/plain": [
       "<maper.maper.maper at 0x2acf31c9de50>"
      ]
     },
     "execution_count": 11,
     "metadata": {},
     "output_type": "execute_result"
    }
   ],
   "source": [
    "# WA state parks\n",
    "m.i('/home/ahagen/.maper/shps/padus/PADUS1_4Fee_Easements_NWest.shp', name='usstateparks',\n",
    "    filter='Unit_Nm.indexOf(\"State Park\") !== -1 || (Loc_Own == \"Washington State Parks and Recreation Commission (SPRC)\")')"
   ]
  },
  {
   "cell_type": "code",
   "execution_count": 12,
   "metadata": {},
   "outputs": [
    {
     "data": {
      "text/plain": [
       "<maper.maper.maper at 0x2acf31c9de50>"
      ]
     },
     "execution_count": 12,
     "metadata": {},
     "output_type": "execute_result"
    }
   ],
   "source": [
    "# BC provincial parks\n",
    "m.i('/home/ahagen/.maper/shps/TA_PEP_SVW_polygon.shp', name='bcprovparks')"
   ]
  },
  {
   "cell_type": "code",
   "execution_count": 13,
   "metadata": {},
   "outputs": [
    {
     "data": {
      "text/plain": [
       "<maper.maper.maper at 0x2acf31c9de50>"
      ]
     },
     "execution_count": 13,
     "metadata": {},
     "output_type": "execute_result"
    }
   ],
   "source": [
    "# AL provincial parks\n",
    "m.i('/home/ahagen/.maper/shps/Parks_Protected_Areas_Alberta.shp', name='abprovparks')"
   ]
  },
  {
   "cell_type": "code",
   "execution_count": 14,
   "metadata": {},
   "outputs": [],
   "source": [
    "# find 8 hour, 5 hour, 3 hour radii"
   ]
  },
  {
   "cell_type": "code",
   "execution_count": null,
   "metadata": {},
   "outputs": [
    {
     "data": {
      "text/plain": [
       "<maper.maper.maper at 0x2acf31c9de50>"
      ]
     },
     "execution_count": 15,
     "metadata": {},
     "output_type": "execute_result"
    }
   ],
   "source": [
    "# style\n",
    "m.style(fill='#ffffff', stroke='#000000')\n",
    "m.style(name='uscities', fill='#cccccc', stroke='none')\n",
    "m.style(name='cacities', fill='#cccccc', stroke='none')\n",
    "m.style(name='roads', fill='none', stroke='#eeeeee')\n",
    "\n",
    "m.style(name='bcnatlparks', fill='#ccffcc', stroke='none')\n",
    "m.style(name='abnatlparks', fill='#ccffcc', stroke='none')\n",
    "m.style(name='usnatlparks', fill='#ccffcc', stroke='none')\n",
    "\n",
    "m.style(name='lakes', fill='#ccccff', stroke='none')\n",
    "m.style(name='rivers', stroke='#ccccff')\n",
    "\n",
    "m.style(name='topo', stroke='#fffcff')\n",
    "\n",
    "m.style(name='usstateparks', fill='#ccddcc', stroke='none')\n",
    "m.style(name='bcprovparks', fill='#ccddcc', stroke='none')\n",
    "m.style(name='abprovparks', fill='#ccddcc', stroke='none')"
   ]
  },
  {
   "cell_type": "code",
   "execution_count": null,
   "metadata": {
    "scrolled": false
   },
   "outputs": [
    {
     "name": "stdout",
     "output_type": "stream",
     "text": [
      "mapshaper -rectangle name=box bbox=-127,43,-115,51 -proj +proj=merc +lat_ts=46.289428 +lon_0=-119.291794 -o box_temp.shp\n",
      "[o] Wrote box_temp.shp\n",
      "[o] Wrote box_temp.shx\n",
      "[o] Wrote box_temp.dbf\n",
      "[o] Wrote box_temp.prj\n",
      "\n",
      "mapshaper -i combine-files /home/ahagen/.maper/shps/states/cb_2015_us_state_20m_temp.shp /home/ahagen/.maper/shps/lpr_000b16a_e_temp.shp /home/ahagen/.maper/shps/ne_10m_roads_north_america_temp.shp /home/ahagen/.maper/shps/ne_10m_lakes_temp.shp /home/ahagen/.maper/shps/ne_10m_rivers_lake_centerlines_temp.shp /home/ahagen/.maper/shps/elev/cont49l010a_temp.shp /home/ahagen/.maper/shps/cb_2016_us_ua10_500k_temp.shp /home/ahagen/.maper/shps/gpc_000b11a_e_temp.shp /home/ahagen/.maper/shps/ne_10m_parks_and_protected_lands/ne_10m_parks_and_protected_lands_area_temp.shp /home/ahagen/.maper/shps/CLAB_BC_2018-02-16_temp.shp /home/ahagen/.maper/shps/CLAB_AB_2018-02-16_temp.shp /home/ahagen/.maper/shps/padus/PADUS1_4Fee_Easements_NWest_temp.shp /home/ahagen/.maper/shps/TA_PEP_SVW_polygon_temp.shp /home/ahagen/.maper/shps/Parks_Protected_Areas_Alberta_temp.shp -rename-layers states,provinces,roads,lakes,rivers,topo,uscities,cacities,usnatlparks,bcnatlparks,abnatlparks,usstateparks,bcprovparks,abprovparks -proj +proj=merc +lat_ts=46.289428 +lon_0=-119.291794 -clip box_temp.shp -svg-style stroke=#000000 fill=#ffffff -svg-style target=uscities stroke=none fill=#cccccc -svg-style target=abprovparks stroke=none fill=#ccddcc -svg-style target=usnatlparks stroke=none fill=#ccffcc -svg-style target=abnatlparks stroke=none fill=#ccffcc -svg-style target=cacities stroke=none fill=#cccccc -svg-style target=lakes stroke=none fill=#ccccff -svg-style target=topo stroke=#fffcff -svg-style target=usstateparks stroke=none fill=#ccddcc -svg-style target=bcprovparks stroke=none fill=#ccddcc -svg-style target=roads stroke=#eeeeee fill=none -svg-style target=rivers stroke=#ccccff -svg-style target=bcnatlparks stroke=none fill=#ccffcc -simplify dp stats resolution=720x680 -o target=* format=svg width=720 out.svg\n"
     ]
    }
   ],
   "source": [
    "# export\n",
    "m.simplify(0.50)\n",
    "m.clip()\n",
    "m.export()\n",
    "m.show()"
   ]
  }
 ],
 "metadata": {
  "kernelspec": {
   "display_name": "Python 2",
   "language": "python",
   "name": "python2"
  },
  "language_info": {
   "codemirror_mode": {
    "name": "ipython",
    "version": 2
   },
   "file_extension": ".py",
   "mimetype": "text/x-python",
   "name": "python",
   "nbconvert_exporter": "python",
   "pygments_lexer": "ipython2",
   "version": "2.7.12"
  }
 },
 "nbformat": 4,
 "nbformat_minor": 2
}
