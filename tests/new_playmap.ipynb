{
 "cells": [
  {
   "cell_type": "code",
   "execution_count": 1,
   "metadata": {},
   "outputs": [],
   "source": [
    "from maper import maper as maper\n",
    "m = maper.maper()"
   ]
  },
  {
   "cell_type": "code",
   "execution_count": 2,
   "metadata": {},
   "outputs": [
    {
     "name": "stdout",
     "output_type": "stream",
     "text": [
      "mapshaper -i /home/ahagen/.maper/shps/states/cb_2015_us_state_20m.shp -proj wgs84 -o /home/ahagen/.maper/shps/states/cb_2015_us_state_20m_temp.shp\n",
      "[o] Wrote /home/ahagen/.maper/shps/states/cb_2015_us_state_20m_temp.shp\n",
      "[o] Wrote /home/ahagen/.maper/shps/states/cb_2015_us_state_20m_temp.shx\n",
      "[o] Wrote /home/ahagen/.maper/shps/states/cb_2015_us_state_20m_temp.dbf\n",
      "[o] Wrote /home/ahagen/.maper/shps/states/cb_2015_us_state_20m_temp.prj\n",
      "\n"
     ]
    },
    {
     "data": {
      "text/plain": [
       "<maper.maper.maper at 0x2b55447a3cd0>"
      ]
     },
     "execution_count": 2,
     "metadata": {},
     "output_type": "execute_result"
    }
   ],
   "source": [
    "# download states and plot\n",
    "m.i('/home/ahagen/.maper/shps/states/cb_2015_us_state_20m.shp', proj=True)"
   ]
  },
  {
   "cell_type": "code",
   "execution_count": 3,
   "metadata": {},
   "outputs": [
    {
     "name": "stdout",
     "output_type": "stream",
     "text": [
      "mapshaper -i /home/ahagen/.maper/shps/lpr_000b16a_e.shp -proj wgs84 -o /home/ahagen/.maper/shps/lpr_000b16a_e_temp.shp\n",
      "[o] Wrote /home/ahagen/.maper/shps/lpr_000b16a_e_temp.shp\n",
      "[o] Wrote /home/ahagen/.maper/shps/lpr_000b16a_e_temp.shx\n",
      "[o] Wrote /home/ahagen/.maper/shps/lpr_000b16a_e_temp.dbf\n",
      "[o] Wrote /home/ahagen/.maper/shps/lpr_000b16a_e_temp.prj\n",
      "\n"
     ]
    },
    {
     "data": {
      "text/plain": [
       "<maper.maper.maper at 0x2b55447a3cd0>"
      ]
     },
     "execution_count": 3,
     "metadata": {},
     "output_type": "execute_result"
    }
   ],
   "source": [
    "# download canadian provinces and plot\n",
    "m.i('/home/ahagen/.maper/shps/lpr_000b16a_e.shp', proj=True)"
   ]
  },
  {
   "cell_type": "code",
   "execution_count": 4,
   "metadata": {},
   "outputs": [],
   "source": [
    "# download us highways and plot"
   ]
  },
  {
   "cell_type": "code",
   "execution_count": 5,
   "metadata": {},
   "outputs": [],
   "source": [
    "# canadian highways"
   ]
  },
  {
   "cell_type": "code",
   "execution_count": 6,
   "metadata": {},
   "outputs": [],
   "source": [
    "# us rivers and lakes"
   ]
  },
  {
   "cell_type": "code",
   "execution_count": 7,
   "metadata": {},
   "outputs": [],
   "source": [
    "# canadian rivers and lakes"
   ]
  },
  {
   "cell_type": "code",
   "execution_count": 8,
   "metadata": {},
   "outputs": [],
   "source": [
    "# american topology"
   ]
  },
  {
   "cell_type": "code",
   "execution_count": 9,
   "metadata": {},
   "outputs": [],
   "source": [
    "# us population centers"
   ]
  },
  {
   "cell_type": "code",
   "execution_count": 10,
   "metadata": {},
   "outputs": [],
   "source": [
    "# canadian population centers"
   ]
  },
  {
   "cell_type": "code",
   "execution_count": 11,
   "metadata": {},
   "outputs": [
    {
     "name": "stdout",
     "output_type": "stream",
     "text": [
      "mapshaper -i /home/ahagen/.maper/shps/ne_10m_parks_and_protected_lands/ne_10m_parks_and_protected_lands_area.shp -proj wgs84 -o /home/ahagen/.maper/shps/ne_10m_parks_and_protected_lands/ne_10m_parks_and_protected_lands_area_temp.shp\n",
      "[proj] Source and destination CRS are the same\n",
      "[o] Wrote /home/ahagen/.maper/shps/ne_10m_parks_and_protected_lands/ne_10m_parks_and_protected_lands_area_temp.shp\n",
      "[o] Wrote /home/ahagen/.maper/shps/ne_10m_parks_and_protected_lands/ne_10m_parks_and_protected_lands_area_temp.shx\n",
      "[o] Wrote /home/ahagen/.maper/shps/ne_10m_parks_and_protected_lands/ne_10m_parks_and_protected_lands_area_temp.dbf\n",
      "[o] Wrote /home/ahagen/.maper/shps/ne_10m_parks_and_protected_lands/ne_10m_parks_and_protected_lands_area_temp.prj\n",
      "\n"
     ]
    },
    {
     "data": {
      "text/plain": [
       "<maper.maper.maper at 0x2b55447a3cd0>"
      ]
     },
     "execution_count": 11,
     "metadata": {},
     "output_type": "execute_result"
    }
   ],
   "source": [
    "# us national parks\n",
    "m.i('/home/ahagen/.maper/shps/ne_10m_parks_and_protected_lands/ne_10m_parks_and_protected_lands_area.shp', proj=True)"
   ]
  },
  {
   "cell_type": "code",
   "execution_count": 12,
   "metadata": {},
   "outputs": [],
   "source": [
    "# canadian national parks"
   ]
  },
  {
   "cell_type": "code",
   "execution_count": 13,
   "metadata": {},
   "outputs": [],
   "source": [
    "# WA state parks"
   ]
  },
  {
   "cell_type": "code",
   "execution_count": 14,
   "metadata": {},
   "outputs": [],
   "source": [
    "# OR state parks"
   ]
  },
  {
   "cell_type": "code",
   "execution_count": 15,
   "metadata": {},
   "outputs": [],
   "source": [
    "# ID state parks"
   ]
  },
  {
   "cell_type": "code",
   "execution_count": 16,
   "metadata": {},
   "outputs": [],
   "source": [
    "# MT state parks"
   ]
  },
  {
   "cell_type": "code",
   "execution_count": 17,
   "metadata": {},
   "outputs": [],
   "source": [
    "# BC provincial parks"
   ]
  },
  {
   "cell_type": "code",
   "execution_count": 18,
   "metadata": {},
   "outputs": [],
   "source": [
    "# AL provincial parks"
   ]
  },
  {
   "cell_type": "code",
   "execution_count": 19,
   "metadata": {},
   "outputs": [],
   "source": [
    "# find 8 hour, 5 hour, 3 hour radii"
   ]
  },
  {
   "cell_type": "code",
   "execution_count": 20,
   "metadata": {},
   "outputs": [
    {
     "data": {
      "text/plain": [
       "<maper.maper.maper at 0x2b55447a3cd0>"
      ]
     },
     "execution_count": 20,
     "metadata": {},
     "output_type": "execute_result"
    }
   ],
   "source": [
    "# style\n",
    "m.style(fill='#ffffff', stroke='#000000')"
   ]
  },
  {
   "cell_type": "code",
   "execution_count": 21,
   "metadata": {},
   "outputs": [
    {
     "name": "stdout",
     "output_type": "stream",
     "text": [
      "mapshaper -rectangle name=box bbox=-130,35,-110,55 -proj +proj=merc +lat_ts=46.289428 +lon_0=-119.291794 -o box_temp.shp\n",
      "[o] Wrote box_temp.shp\n",
      "[o] Wrote box_temp.shx\n",
      "[o] Wrote box_temp.dbf\n",
      "[o] Wrote box_temp.prj\n",
      "\n",
      "mapshaper -i combine-files /home/ahagen/.maper/shps/states/cb_2015_us_state_20m_temp.shp /home/ahagen/.maper/shps/lpr_000b16a_e_temp.shp /home/ahagen/.maper/shps/ne_10m_parks_and_protected_lands/ne_10m_parks_and_protected_lands_area_temp.shp -svg-style stroke=#000000 fill=#ffffff -proj +proj=merc +lat_ts=46.289428 +lon_0=-119.291794 -clip box_temp.shp -simplify dp stats resolution=720x680 -o format=svg width=720 out.svg\n",
      "[svg-style] Detected DBF text encoding: win1252\n",
      "Sample text containing non-ascii characters:\n",
      "  Prince Edward Island / Île-du-Prince-Édouard\n",
      "  Île-du-Prince-Édouard\n",
      "  Î.-P.-É.\n",
      "  Nova Scotia / Nouvelle-Écosse\n",
      "  Nouvelle-Écosse\n",
      "  N.-É.\n",
      "  Quebec / Québec\n",
      "  Québec\n",
      "[simplify] Repaired 72 intersections\n",
      "[simplify] Simplification statistics\n",
      "   Method: Ramer-Douglas-Peucker (planar) \n",
      "   Removed vertices: 436,794\n",
      "      99.2% of 440,410 unique coordinate locations\n",
      "      99.2% of 438,344 filterable coordinate locations\n",
      "   Simplification threshold: 1622.3903 \n",
      "   Collapsed rings: 1,759\n",
      "   Displacement statistics\n",
      "      Mean displacement: 807.9563\n",
      "      Max displacement: 1620.9858\n",
      "      Quartiles: 465.26, 778.61, 1158.84\n",
      "   Vertex angle statistics\n",
      "      Mean angle: 98.47 degrees\n",
      "      Quartiles: 71.88, 104.51, 130.70\n",
      "[o] Wrote out.svg\n",
      "\n"
     ]
    },
    {
     "data": {
      "text/html": [
       "\n",
       "                <div class='figure' name='' style='align: center; margin-left: auto; margin-right: auto;'>\n",
       "                    <img style='margin: auto; max-width:800px; width:800.000000px; height: auto;' src='out.svg?1161079928' />\n",
       "                    <div style='margin: auto; text-align: center;' class='figurecaption' name=\"\"><b>Figure 1:</b> map</div>\n",
       "                </div>\n",
       "            "
      ],
      "text/plain": [
       "<IPython.core.display.HTML object>"
      ]
     },
     "metadata": {},
     "output_type": "display_data"
    },
    {
     "data": {
      "text/plain": [
       "<maper.maper.maper at 0x2b55447a3cd0>"
      ]
     },
     "execution_count": 21,
     "metadata": {},
     "output_type": "execute_result"
    }
   ],
   "source": [
    "# export\n",
    "m.simplify(0.50)\n",
    "m.clip()\n",
    "m.export()\n",
    "m.show()"
   ]
  }
 ],
 "metadata": {
  "kernelspec": {
   "display_name": "Python 2",
   "language": "python",
   "name": "python2"
  },
  "language_info": {
   "codemirror_mode": {
    "name": "ipython",
    "version": 2
   },
   "file_extension": ".py",
   "mimetype": "text/x-python",
   "name": "python",
   "nbconvert_exporter": "python",
   "pygments_lexer": "ipython2",
   "version": "2.7.12"
  }
 },
 "nbformat": 4,
 "nbformat_minor": 2
}
