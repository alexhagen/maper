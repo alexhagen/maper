{
 "cells": [
  {
   "cell_type": "code",
   "execution_count": 1,
   "metadata": {},
   "outputs": [],
   "source": [
    "from maper import maper as maper\n",
    "m = maper.maper()"
   ]
  },
  {
   "cell_type": "code",
   "execution_count": 2,
   "metadata": {},
   "outputs": [
    {
     "data": {
      "text/plain": [
       "<maper.maper.maper at 0x2b38651cacd0>"
      ]
     },
     "execution_count": 2,
     "metadata": {},
     "output_type": "execute_result"
    }
   ],
   "source": [
    "# download states and plot\n",
    "m.i('/home/ahagen/.maper/shps/states/cb_2015_us_state_20m.shp', name='states')"
   ]
  },
  {
   "cell_type": "code",
   "execution_count": 3,
   "metadata": {},
   "outputs": [
    {
     "data": {
      "text/plain": [
       "<maper.maper.maper at 0x2b38651cacd0>"
      ]
     },
     "execution_count": 3,
     "metadata": {},
     "output_type": "execute_result"
    }
   ],
   "source": [
    "# download canadian provinces and plot\n",
    "m.i('/home/ahagen/.maper/shps/lpr_000b16a_e.shp', proj=True)"
   ]
  },
  {
   "cell_type": "code",
   "execution_count": 4,
   "metadata": {},
   "outputs": [],
   "source": [
    "# download us highways and plot\n",
    "#m.i('/home/ahagen/.maper/shps/tl_2016_us_primaryroads.shp', proj=True)"
   ]
  },
  {
   "cell_type": "code",
   "execution_count": 5,
   "metadata": {},
   "outputs": [],
   "source": [
    "# canadian highways"
   ]
  },
  {
   "cell_type": "code",
   "execution_count": 6,
   "metadata": {},
   "outputs": [],
   "source": [
    "# us rivers and lakes"
   ]
  },
  {
   "cell_type": "code",
   "execution_count": 7,
   "metadata": {},
   "outputs": [],
   "source": [
    "# canadian rivers and lakes"
   ]
  },
  {
   "cell_type": "code",
   "execution_count": 8,
   "metadata": {},
   "outputs": [],
   "source": [
    "# american topology\n",
    "#m.i('/home/ahagen/.maper/shps/elev/cont49l010a.shp', proj=True)"
   ]
  },
  {
   "cell_type": "code",
   "execution_count": 9,
   "metadata": {},
   "outputs": [
    {
     "data": {
      "text/plain": [
       "<maper.maper.maper at 0x2b38651cacd0>"
      ]
     },
     "execution_count": 9,
     "metadata": {},
     "output_type": "execute_result"
    }
   ],
   "source": [
    "# us population centers\n",
    "m.i('/home/ahagen/.maper/shps/cb_2016_us_ua10_500k.shp', proj=True)"
   ]
  },
  {
   "cell_type": "code",
   "execution_count": 10,
   "metadata": {},
   "outputs": [
    {
     "data": {
      "text/plain": [
       "<maper.maper.maper at 0x2b38651cacd0>"
      ]
     },
     "execution_count": 10,
     "metadata": {},
     "output_type": "execute_result"
    }
   ],
   "source": [
    "# canadian population centers\n",
    "m.i('/home/ahagen/.maper/shps/gpc_000b11a_e.shp', proj=True)"
   ]
  },
  {
   "cell_type": "code",
   "execution_count": 11,
   "metadata": {},
   "outputs": [],
   "source": [
    "# us national parks\n",
    "#m.i('/home/ahagen/.maper/shps/us/PADUS1_4Combined.shp', proj=True)"
   ]
  },
  {
   "cell_type": "code",
   "execution_count": 12,
   "metadata": {},
   "outputs": [],
   "source": [
    "# canadian national parks\n",
    "#m.i('/home/ahagen/.maper/shps/CLAB_BC_2018-02-16.shp', proj=True)\n",
    "#m.i('/home/ahagen/.maper/shps/CLAB_AB_2018-02-16.shp', proj=True)"
   ]
  },
  {
   "cell_type": "code",
   "execution_count": 13,
   "metadata": {},
   "outputs": [],
   "source": [
    "# WA state parks"
   ]
  },
  {
   "cell_type": "code",
   "execution_count": 14,
   "metadata": {},
   "outputs": [],
   "source": [
    "# OR state parks"
   ]
  },
  {
   "cell_type": "code",
   "execution_count": 15,
   "metadata": {},
   "outputs": [],
   "source": [
    "# ID state parks"
   ]
  },
  {
   "cell_type": "code",
   "execution_count": 16,
   "metadata": {},
   "outputs": [],
   "source": [
    "# MT state parks"
   ]
  },
  {
   "cell_type": "code",
   "execution_count": 17,
   "metadata": {},
   "outputs": [],
   "source": [
    "# BC provincial parks"
   ]
  },
  {
   "cell_type": "code",
   "execution_count": 18,
   "metadata": {},
   "outputs": [],
   "source": [
    "# AL provincial parks"
   ]
  },
  {
   "cell_type": "code",
   "execution_count": 19,
   "metadata": {},
   "outputs": [],
   "source": [
    "# find 8 hour, 5 hour, 3 hour radii"
   ]
  },
  {
   "cell_type": "code",
   "execution_count": 20,
   "metadata": {},
   "outputs": [
    {
     "data": {
      "text/plain": [
       "<maper.maper.maper at 0x2b38651cacd0>"
      ]
     },
     "execution_count": 20,
     "metadata": {},
     "output_type": "execute_result"
    }
   ],
   "source": [
    "# style\n",
    "m.style(fill='#ffffff', stroke='#000000')\n",
    "#m.style(name='states', fill='#fcfcfc')"
   ]
  },
  {
   "cell_type": "code",
   "execution_count": 21,
   "metadata": {
    "scrolled": false
   },
   "outputs": [
    {
     "name": "stdout",
     "output_type": "stream",
     "text": [
      "mapshaper -rectangle name=box bbox=-130,35,-110,55 -proj +proj=merc +lat_ts=46.289428 +lon_0=-119.291794 -o box_temp.shp\n",
      "[o] Wrote box_temp.shp\n",
      "[o] Wrote box_temp.shx\n",
      "[o] Wrote box_temp.dbf\n",
      "[o] Wrote box_temp.prj\n",
      "\n",
      "mapshaper -i combine-files /home/ahagen/.maper/shps/states/cb_2015_us_state_20m_temp.shp /home/ahagen/.maper/shps/lpr_000b16a_e_temp.shp /home/ahagen/.maper/shps/cb_2016_us_ua10_500k_temp.shp /home/ahagen/.maper/shps/gpc_000b11a_e_temp.shp -rename-layers states,lpr_000b16a_e,cb_2016_us_ua10_500k,gpc_000b11a_e -svg-style stroke=#000000 fill=#ffffff -drop target=* fields=* -merge-layers -proj +proj=merc +lat_ts=46.289428 +lon_0=-119.291794 -clip box_temp.shp -simplify dp stats resolution=720x680 -o format=svg width=720 out.svg\n",
      "[svg-style] Detected DBF text encoding: win1252\n",
      "Sample text containing non-ascii characters:\n",
      "  Prince Edward Island / Île-du-Prince-Édouard\n",
      "  Île-du-Prince-Édouard\n",
      "  Î.-P.-É.\n",
      "  Nova Scotia / Nouvelle-Écosse\n",
      "  Nouvelle-Écosse\n",
      "  N.-É.\n",
      "  Quebec / Québec\n",
      "  Québec\n",
      "[svg-style] Detected DBF text encoding: utf8\n",
      "Sample text containing non-ascii characters:\n",
      "  San Germán--Cabo Rojo--Sabana Grande, PR\n",
      "  Juana Díaz, PR\n",
      "  Florida--Imbéry--Barceloneta, PR\n",
      "  Mayagüez, PR\n",
      "  Cañon City, CO\n",
      "  Aguadilla--Isabela--San Sebastián, PR\n",
      "[svg-style] Detected DBF text encoding: win1252\n",
      "Sample text containing non-ascii characters:\n",
      "  Prince Edward Island / Île-du-Prince-Édouard\n",
      "  Nova Scotia / Nouvelle-Écosse\n",
      "  Quebec / Québec\n",
      "  Alençon\n",
      "  Beaupré\n",
      "  Dégelis\n",
      "  Grande-Rivière\n",
      "  La Pocatière\n",
      "  Lac-Mégantic\n",
      "  Lebel-sur-Quévillon\n",
      "  Linière\n",
      "  Hébertville\n",
      "  Saint-André-Avellin\n",
      "  Saint-Césaire\n",
      "  Saint-Félicien\n",
      "  Saint-Félix-de-Valois\n",
      "  Saint-Gédéon\n",
      "  Métabetchouan\n",
      "  Saint-Marc-des-Carrières\n",
      "  Saint-Pacôme\n",
      "  Saint-Raphaël\n",
      "  Saint-Rémi\n",
      "  Sainte-Adèle\n",
      "  Sainte-Thècle\n",
      "  Témiscaming\n",
      "  Vallée-Jonction\n",
      "  Trois-Rivières\n",
      "  Gaspé\n",
      "  Rivière-au-Renard\n",
      "  Maskinongé\n",
      "  Saint-Éphrem-de-Tring\n",
      "  Campbellton (partie du Québec / Quebec part)\n",
      "  Rivière-du-Loup\n",
      "  Chicoutimi - Jonquière\n",
      "  Saint-Honoré\n",
      "  Sept-Îles\n",
      "  Château-Richer\n",
      "  Québec\n",
      "  Saint-Henri-de-Lévis\n",
      "  Saint Grégoire\n",
      "  Montréal\n",
      "  L'Épiphanie\n",
      "  Saint-Jérôme\n",
      "  Verchères\n",
      "  Châteauguay\n",
      "  Les Cèdres\n",
      "  Hawkesbury (partie du Québec / Quebec part)\n",
      "  Ottawa - Gatineau (partie du Québec / Quebec part)\n",
      "  La Crète\n",
      "[simplify] Repaired 313 intersections\n",
      "[simplify] Simplification statistics\n",
      "   Method: Ramer-Douglas-Peucker (planar) \n",
      "   Removed vertices: 588,450\n",
      "      97.4% of 603,984 unique coordinate locations\n",
      "      99.0% of 592,040 filterable coordinate locations\n",
      "   Simplification threshold: 1622.3903 \n",
      "   Collapsed rings: 2,373\n",
      "   Displacement statistics\n",
      "      Mean displacement: 268.4081\n",
      "      Max displacement: 1621.7857\n",
      "      Quartiles: 2.93, 11.39, 456.67\n",
      "   Vertex angle statistics\n",
      "      Mean angle: 86.63 degrees\n",
      "      Quartiles: 56.74, 89.84, 116.68\n",
      "[o] Wrote out.svg\n",
      "\n"
     ]
    },
    {
     "data": {
      "text/html": [
       "\n",
       "                <div class='figure' name='' style='align: center; margin-left: auto; margin-right: auto;'>\n",
       "                    <img style='margin: auto; max-width:800px; width:800.000000px; height: auto;' src='out.svg?162769288' />\n",
       "                    <div style='margin: auto; text-align: center;' class='figurecaption' name=\"\"><b>Figure 1:</b> map</div>\n",
       "                </div>\n",
       "            "
      ],
      "text/plain": [
       "<IPython.core.display.HTML object>"
      ]
     },
     "metadata": {},
     "output_type": "display_data"
    },
    {
     "data": {
      "text/plain": [
       "<maper.maper.maper at 0x2b38651cacd0>"
      ]
     },
     "execution_count": 21,
     "metadata": {},
     "output_type": "execute_result"
    }
   ],
   "source": [
    "# export\n",
    "m.simplify(0.50)\n",
    "m.clip()\n",
    "m.export()\n",
    "m.show()"
   ]
  }
 ],
 "metadata": {
  "kernelspec": {
   "display_name": "Python 2",
   "language": "python",
   "name": "python2"
  },
  "language_info": {
   "codemirror_mode": {
    "name": "ipython",
    "version": 2
   },
   "file_extension": ".py",
   "mimetype": "text/x-python",
   "name": "python",
   "nbconvert_exporter": "python",
   "pygments_lexer": "ipython2",
   "version": "2.7.12"
  }
 },
 "nbformat": 4,
 "nbformat_minor": 2
}
